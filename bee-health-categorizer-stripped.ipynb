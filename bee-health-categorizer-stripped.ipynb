{
 "cells": [
  {
   "cell_type": "code",
   "execution_count": 1,
   "metadata": {
    "_cell_guid": "b1076dfc-b9ad-4769-8c92-a6c4dae69d19",
    "_uuid": "8f2839f25d086af736a60e9eeb907d3b93b6e0e5",
    "execution": {
     "iopub.execute_input": "2020-12-02T23:12:32.820078Z",
     "iopub.status.busy": "2020-12-02T23:12:32.819247Z",
     "iopub.status.idle": "2020-12-02T23:12:39.404159Z",
     "shell.execute_reply": "2020-12-02T23:12:39.403371Z"
    },
    "papermill": {
     "duration": 6.613693,
     "end_time": "2020-12-02T23:12:39.404317",
     "exception": false,
     "start_time": "2020-12-02T23:12:32.790624",
     "status": "completed"
    },
    "tags": []
   },
   "outputs": [],
   "source": [
    "import matplotlib.pyplot as plt\n",
    "import numpy as np # linear algebra\n",
    "import pandas as pd # data processing, CSV file I/O (e.g. pd.read_csv)\n",
    "import os\n",
    "import PIL\n",
    "import tensorflow as tf\n",
    "import pathlib\n",
    "import ipywidgets as widgets\n",
    "import io\n",
    "\n",
    "from IPython.display import Javascript\n",
    "from PIL import Image\n",
    "from ipywidgets import interact\n",
    "from PIL import ImageShow\n",
    "from tensorflow import keras\n",
    "from tensorflow.keras import layers\n",
    "from tensorflow.keras.models import Sequential"
   ]
  },
  {
   "cell_type": "markdown",
   "metadata": {
    "papermill": {
     "duration": 0.01593,
     "end_time": "2020-12-02T23:12:39.436976",
     "exception": false,
     "start_time": "2020-12-02T23:12:39.421046",
     "status": "completed"
    },
    "tags": []
   },
   "source": [
    "# Download Dataset"
   ]
  },
  {
   "cell_type": "code",
   "execution_count": 2,
   "metadata": {
    "execution": {
     "iopub.execute_input": "2020-12-02T23:12:39.475843Z",
     "iopub.status.busy": "2020-12-02T23:12:39.474751Z",
     "iopub.status.idle": "2020-12-02T23:12:39.477644Z",
     "shell.execute_reply": "2020-12-02T23:12:39.477020Z"
    },
    "papermill": {
     "duration": 0.024691,
     "end_time": "2020-12-02T23:12:39.477774",
     "exception": false,
     "start_time": "2020-12-02T23:12:39.453083",
     "status": "completed"
    },
    "tags": []
   },
   "outputs": [],
   "source": [
    "dataset_path = \"../input/bee-images-separated/bee_imgs\"\n",
    "data_dir = pathlib.Path(dataset_path)"
   ]
  },
  {
   "cell_type": "markdown",
   "metadata": {
    "papermill": {
     "duration": 0.016362,
     "end_time": "2020-12-02T23:12:39.510990",
     "exception": false,
     "start_time": "2020-12-02T23:12:39.494628",
     "status": "completed"
    },
    "tags": []
   },
   "source": [
    "# Create Dataset\n",
    "Validation split splits the images into 80% for training and 20% for validation"
   ]
  },
  {
   "cell_type": "code",
   "execution_count": 3,
   "metadata": {
    "execution": {
     "iopub.execute_input": "2020-12-02T23:12:39.553991Z",
     "iopub.status.busy": "2020-12-02T23:12:39.553202Z",
     "iopub.status.idle": "2020-12-02T23:12:45.895338Z",
     "shell.execute_reply": "2020-12-02T23:12:45.894643Z"
    },
    "papermill": {
     "duration": 6.367494,
     "end_time": "2020-12-02T23:12:45.895470",
     "exception": false,
     "start_time": "2020-12-02T23:12:39.527976",
     "status": "completed"
    },
    "tags": []
   },
   "outputs": [
    {
     "name": "stdout",
     "output_type": "stream",
     "text": [
      "Found 5172 files belonging to 6 classes.\n",
      "Using 4138 files for training.\n",
      "Found 5172 files belonging to 6 classes.\n",
      "Using 1034 files for validation.\n"
     ]
    }
   ],
   "source": [
    "batch_size = 32\n",
    "img_height = 180\n",
    "img_width = 180\n",
    "\n",
    "train_ds = tf.keras.preprocessing.image_dataset_from_directory(\n",
    "    data_dir,\n",
    "    validation_split=0.2,\n",
    "    subset=\"training\",\n",
    "    seed=123,\n",
    "    image_size=(img_height, img_width),\n",
    "    batch_size=batch_size\n",
    ")\n",
    "\n",
    "val_ds = tf.keras.preprocessing.image_dataset_from_directory(\n",
    "    data_dir,\n",
    "    validation_split=0.2,\n",
    "    subset=\"validation\",\n",
    "    seed=123,\n",
    "    image_size=(img_height, img_width),\n",
    "    batch_size=batch_size\n",
    ")\n",
    "\n",
    "class_names = train_ds.class_names"
   ]
  },
  {
   "cell_type": "markdown",
   "metadata": {
    "papermill": {
     "duration": 0.021689,
     "end_time": "2020-12-02T23:12:45.937008",
     "exception": false,
     "start_time": "2020-12-02T23:12:45.915319",
     "status": "completed"
    },
    "tags": []
   },
   "source": [
    "# Configure Dataset\n",
    "dataset.cache(): keeps images in memory after they're loaded off the disk for the first epoch\n",
    "<br>dataset.prefetch(): overlaps data preprocessing and model execution while training"
   ]
  },
  {
   "cell_type": "code",
   "execution_count": 4,
   "metadata": {
    "execution": {
     "iopub.execute_input": "2020-12-02T23:12:45.988119Z",
     "iopub.status.busy": "2020-12-02T23:12:45.986900Z",
     "iopub.status.idle": "2020-12-02T23:12:45.996745Z",
     "shell.execute_reply": "2020-12-02T23:12:45.995713Z"
    },
    "papermill": {
     "duration": 0.038274,
     "end_time": "2020-12-02T23:12:45.996936",
     "exception": false,
     "start_time": "2020-12-02T23:12:45.958662",
     "status": "completed"
    },
    "tags": []
   },
   "outputs": [],
   "source": [
    "AUTOTUNE = tf.data.experimental.AUTOTUNE\n",
    "\n",
    "train_ds = train_ds.cache().shuffle(1000).prefetch(buffer_size=AUTOTUNE)\n",
    "val_ds = val_ds.cache().prefetch(buffer_size=AUTOTUNE)"
   ]
  },
  {
   "cell_type": "markdown",
   "metadata": {
    "papermill": {
     "duration": 0.019366,
     "end_time": "2020-12-02T23:12:46.036991",
     "exception": false,
     "start_time": "2020-12-02T23:12:46.017625",
     "status": "completed"
    },
    "tags": []
   },
   "source": [
    "# Standardize Dataset"
   ]
  },
  {
   "cell_type": "code",
   "execution_count": 5,
   "metadata": {
    "execution": {
     "iopub.execute_input": "2020-12-02T23:12:46.086951Z",
     "iopub.status.busy": "2020-12-02T23:12:46.086137Z",
     "iopub.status.idle": "2020-12-02T23:13:11.705762Z",
     "shell.execute_reply": "2020-12-02T23:13:11.704666Z"
    },
    "papermill": {
     "duration": 25.64862,
     "end_time": "2020-12-02T23:13:11.705903",
     "exception": false,
     "start_time": "2020-12-02T23:12:46.057283",
     "status": "completed"
    },
    "tags": []
   },
   "outputs": [
    {
     "name": "stdout",
     "output_type": "stream",
     "text": [
      "0.0 0.5977605\n"
     ]
    }
   ],
   "source": [
    "normalization_layer = layers.experimental.preprocessing.Rescaling(1./255)\n",
    "\n",
    "normalized_ds = train_ds.map(lambda x, y: (normalization_layer(x), y))\n",
    "image_batch, labels_batch = next(iter(normalized_ds))\n",
    "first_image = image_batch[0]\n",
    "print(np.min(first_image), np.max(first_image))"
   ]
  },
  {
   "cell_type": "markdown",
   "metadata": {
    "papermill": {
     "duration": 0.017825,
     "end_time": "2020-12-02T23:13:11.742155",
     "exception": false,
     "start_time": "2020-12-02T23:13:11.724330",
     "status": "completed"
    },
    "tags": []
   },
   "source": [
    "# Create Model\n",
    "Consists of three convolutional blocks with each having a max pooling layers\n",
    "<br>The fully connected layer is activated by the ReLU function"
   ]
  },
  {
   "cell_type": "code",
   "execution_count": 6,
   "metadata": {
    "execution": {
     "iopub.execute_input": "2020-12-02T23:13:11.803982Z",
     "iopub.status.busy": "2020-12-02T23:13:11.787036Z",
     "iopub.status.idle": "2020-12-02T23:13:11.904524Z",
     "shell.execute_reply": "2020-12-02T23:13:11.905169Z"
    },
    "papermill": {
     "duration": 0.145205,
     "end_time": "2020-12-02T23:13:11.905330",
     "exception": false,
     "start_time": "2020-12-02T23:13:11.760125",
     "status": "completed"
    },
    "tags": []
   },
   "outputs": [],
   "source": [
    "num_classes = 6\n",
    "\n",
    "model = Sequential([\n",
    "  layers.experimental.preprocessing.Rescaling(1./255, input_shape=(img_height, img_width, 3)),\n",
    "  layers.Conv2D(16, 3, padding='same', activation='relu'),\n",
    "  layers.MaxPooling2D(),\n",
    "  layers.Conv2D(32, 3, padding='same', activation='relu'),\n",
    "  layers.MaxPooling2D(),\n",
    "  layers.Conv2D(64, 3, padding='same', activation='relu'),\n",
    "  layers.MaxPooling2D(),\n",
    "  layers.Flatten(),\n",
    "  layers.Dense(128, activation='relu'),\n",
    "  layers.Dense(num_classes)\n",
    "])"
   ]
  },
  {
   "cell_type": "markdown",
   "metadata": {
    "papermill": {
     "duration": 0.017963,
     "end_time": "2020-12-02T23:13:11.941803",
     "exception": false,
     "start_time": "2020-12-02T23:13:11.923840",
     "status": "completed"
    },
    "tags": []
   },
   "source": [
    "# Compile Data\n",
    "Use Adam optimizer and the Sparse Categorical Croessentropy loss function"
   ]
  },
  {
   "cell_type": "code",
   "execution_count": 7,
   "metadata": {
    "execution": {
     "iopub.execute_input": "2020-12-02T23:13:11.993092Z",
     "iopub.status.busy": "2020-12-02T23:13:11.992160Z",
     "iopub.status.idle": "2020-12-02T23:13:11.999543Z",
     "shell.execute_reply": "2020-12-02T23:13:11.998766Z"
    },
    "papermill": {
     "duration": 0.039368,
     "end_time": "2020-12-02T23:13:11.999679",
     "exception": false,
     "start_time": "2020-12-02T23:13:11.960311",
     "status": "completed"
    },
    "tags": []
   },
   "outputs": [],
   "source": [
    "model.compile(optimizer='adam',\n",
    "              loss=tf.keras.losses.SparseCategoricalCrossentropy(from_logits=True),\n",
    "              metrics=['accuracy'])"
   ]
  },
  {
   "cell_type": "markdown",
   "metadata": {
    "papermill": {
     "duration": 0.01828,
     "end_time": "2020-12-02T23:13:12.036736",
     "exception": false,
     "start_time": "2020-12-02T23:13:12.018456",
     "status": "completed"
    },
    "tags": []
   },
   "source": [
    "# Train Model"
   ]
  },
  {
   "cell_type": "code",
   "execution_count": 8,
   "metadata": {
    "execution": {
     "iopub.execute_input": "2020-12-02T23:13:12.081602Z",
     "iopub.status.busy": "2020-12-02T23:13:12.080761Z",
     "iopub.status.idle": "2020-12-02T23:26:35.373168Z",
     "shell.execute_reply": "2020-12-02T23:26:35.371725Z"
    },
    "papermill": {
     "duration": 803.317614,
     "end_time": "2020-12-02T23:26:35.373353",
     "exception": false,
     "start_time": "2020-12-02T23:13:12.055739",
     "status": "completed"
    },
    "tags": []
   },
   "outputs": [
    {
     "name": "stdout",
     "output_type": "stream",
     "text": [
      "Epoch 1/10\n",
      "130/130 [==============================] - 85s 653ms/step - loss: 0.8108 - accuracy: 0.7209 - val_loss: 0.5054 - val_accuracy: 0.8066\n",
      "Epoch 2/10\n",
      "130/130 [==============================] - 75s 581ms/step - loss: 0.3532 - accuracy: 0.8589 - val_loss: 0.3478 - val_accuracy: 0.8878\n",
      "Epoch 3/10\n",
      "130/130 [==============================] - 78s 598ms/step - loss: 0.2429 - accuracy: 0.8975 - val_loss: 0.2957 - val_accuracy: 0.8694\n",
      "Epoch 4/10\n",
      "130/130 [==============================] - 76s 581ms/step - loss: 0.1897 - accuracy: 0.9212 - val_loss: 0.4064 - val_accuracy: 0.8491\n",
      "Epoch 5/10\n",
      "130/130 [==============================] - 76s 587ms/step - loss: 0.1691 - accuracy: 0.9321 - val_loss: 0.2516 - val_accuracy: 0.9023\n",
      "Epoch 6/10\n",
      "130/130 [==============================] - 75s 580ms/step - loss: 0.1199 - accuracy: 0.9490 - val_loss: 0.2041 - val_accuracy: 0.9178\n",
      "Epoch 7/10\n",
      "130/130 [==============================] - 76s 588ms/step - loss: 0.0913 - accuracy: 0.9633 - val_loss: 0.2317 - val_accuracy: 0.9217\n",
      "Epoch 8/10\n",
      "130/130 [==============================] - 77s 591ms/step - loss: 0.0741 - accuracy: 0.9691 - val_loss: 0.2712 - val_accuracy: 0.9033\n",
      "Epoch 9/10\n",
      "130/130 [==============================] - 92s 710ms/step - loss: 0.0953 - accuracy: 0.9638 - val_loss: 0.2316 - val_accuracy: 0.9159\n",
      "Epoch 10/10\n",
      "130/130 [==============================] - 85s 657ms/step - loss: 0.0462 - accuracy: 0.9845 - val_loss: 0.2525 - val_accuracy: 0.9236\n"
     ]
    }
   ],
   "source": [
    "epochs=10\n",
    "history = model.fit(\n",
    "  train_ds,\n",
    "  validation_data=val_ds,\n",
    "  epochs=epochs\n",
    ")"
   ]
  },
  {
   "cell_type": "markdown",
   "metadata": {
    "papermill": {
     "duration": 0.555105,
     "end_time": "2020-12-02T23:26:36.478315",
     "exception": false,
     "start_time": "2020-12-02T23:26:35.923210",
     "status": "completed"
    },
    "tags": []
   },
   "source": [
    "# Predict on New data"
   ]
  },
  {
   "cell_type": "markdown",
   "metadata": {
    "papermill": {
     "duration": 0.554498,
     "end_time": "2020-12-02T23:26:37.578622",
     "exception": false,
     "start_time": "2020-12-02T23:26:37.024124",
     "status": "completed"
    },
    "tags": []
   },
   "source": [
    "Upload a new image to be analyzed"
   ]
  },
  {
   "cell_type": "code",
   "execution_count": 9,
   "metadata": {
    "execution": {
     "iopub.execute_input": "2020-12-02T23:26:38.701526Z",
     "iopub.status.busy": "2020-12-02T23:26:38.700310Z",
     "iopub.status.idle": "2020-12-02T23:26:38.707123Z",
     "shell.execute_reply": "2020-12-02T23:26:38.707764Z"
    },
    "papermill": {
     "duration": 0.57656,
     "end_time": "2020-12-02T23:26:38.707948",
     "exception": false,
     "start_time": "2020-12-02T23:26:38.131388",
     "status": "completed"
    },
    "tags": []
   },
   "outputs": [
    {
     "data": {
      "application/vnd.jupyter.widget-view+json": {
       "model_id": "93ba039b24c947b9ade9cca52b37293e",
       "version_major": 2,
       "version_minor": 0
      },
      "text/plain": [
       "FileUpload(value={}, accept='.png, .jpg', description='Upload')"
      ]
     },
     "metadata": {},
     "output_type": "display_data"
    }
   ],
   "source": [
    "uploader = widgets.FileUpload(\n",
    "    accept='.png, .jpg',  # Accepted file extension e.g. '.txt', '.pdf', 'image/*', 'image/*,.pdf'\n",
    "    multiple=False  # True to accept multiple files upload else False\n",
    ")\n",
    "display(uploader)"
   ]
  },
  {
   "cell_type": "code",
   "execution_count": 10,
   "metadata": {
    "execution": {
     "iopub.execute_input": "2020-12-02T23:26:39.818128Z",
     "iopub.status.busy": "2020-12-02T23:26:39.817102Z",
     "iopub.status.idle": "2020-12-02T23:26:39.822659Z",
     "shell.execute_reply": "2020-12-02T23:26:39.823269Z"
    },
    "papermill": {
     "duration": 0.566451,
     "end_time": "2020-12-02T23:26:39.823448",
     "exception": false,
     "start_time": "2020-12-02T23:26:39.256997",
     "status": "completed"
    },
    "tags": []
   },
   "outputs": [
    {
     "data": {
      "application/vnd.jupyter.widget-view+json": {
       "model_id": "5513fc407b75482d9666ee3e0e1c0d23",
       "version_major": 2,
       "version_minor": 0
      },
      "text/plain": [
       "Button(description='Analyze Next Image', style=ButtonStyle())"
      ]
     },
     "metadata": {},
     "output_type": "display_data"
    }
   ],
   "source": [
    "def run_all(ev):\n",
    "    display(Javascript('IPython.notebook.execute_cells_below()'))\n",
    "\n",
    "button = widgets.Button(description=\"Analyze Next Image\")\n",
    "button.on_click(run_all)\n",
    "display(button)"
   ]
  },
  {
   "cell_type": "markdown",
   "metadata": {
    "papermill": {
     "duration": 0.559775,
     "end_time": "2020-12-02T23:26:40.945099",
     "exception": false,
     "start_time": "2020-12-02T23:26:40.385324",
     "status": "completed"
    },
    "tags": []
   },
   "source": [
    "After the image has been uploaded, save it to output directory and display image back to user"
   ]
  },
  {
   "cell_type": "code",
   "execution_count": 11,
   "metadata": {
    "execution": {
     "iopub.execute_input": "2020-12-02T23:26:42.116609Z",
     "iopub.status.busy": "2020-12-02T23:26:42.115152Z",
     "iopub.status.idle": "2020-12-02T23:26:42.119747Z",
     "shell.execute_reply": "2020-12-02T23:26:42.118899Z"
    },
    "papermill": {
     "duration": 0.610507,
     "end_time": "2020-12-02T23:26:42.119905",
     "exception": false,
     "start_time": "2020-12-02T23:26:41.509398",
     "status": "completed"
    },
    "tags": []
   },
   "outputs": [],
   "source": [
    "img_name=\"\"\n",
    "#save the uploaded image to a folder\n",
    "for name, file_info in uploader.value.items():\n",
    "    img = Image.open(io.BytesIO(file_info['content']))\n",
    "    img_name = name\n",
    "    with open(name, 'wb') as fp:\n",
    "        fp.write(file_info['content'])\n",
    "\n",
    "    bee_img = './' + img_name\n",
    "\n",
    "#display chosen image back to user\n",
    "#PIL.Image.open(bee_img)"
   ]
  },
  {
   "cell_type": "markdown",
   "metadata": {
    "papermill": {
     "duration": 0.567487,
     "end_time": "2020-12-02T23:26:43.258803",
     "exception": false,
     "start_time": "2020-12-02T23:26:42.691316",
     "status": "completed"
    },
    "tags": []
   },
   "source": [
    "Display Prediction"
   ]
  },
  {
   "cell_type": "code",
   "execution_count": 12,
   "metadata": {
    "execution": {
     "iopub.execute_input": "2020-12-02T23:26:44.410970Z",
     "iopub.status.busy": "2020-12-02T23:26:44.409776Z",
     "iopub.status.idle": "2020-12-02T23:26:44.731760Z",
     "shell.execute_reply": "2020-12-02T23:26:44.730996Z"
    },
    "papermill": {
     "duration": 0.916197,
     "end_time": "2020-12-02T23:26:44.731914",
     "exception": false,
     "start_time": "2020-12-02T23:26:43.815717",
     "status": "completed"
    },
    "tags": []
   },
   "outputs": [
    {
     "name": "stdout",
     "output_type": "stream",
     "text": [
      "This image most likely belongs to the category ants with a 99.69 percent confidence.\n"
     ]
    },
    {
     "data": {
      "image/png": "[encoded data removed]",
      "text/plain": [
       "<PIL.PngImagePlugin.PngImageFile image mode=RGB size=213x191 at 0x7FCAB868ACD0>"
      ]
     },
     "execution_count": 12,
     "metadata": {},
     "output_type": "execute_result"
    }
   ],
   "source": [
    "if img_name == \"\":\n",
    "    bee_img = \"../input/bee-images-separated/bee_imgs/ants/013_008.png\"\n",
    "    \n",
    "img = keras.preprocessing.image.load_img(\n",
    "    bee_img, target_size=(img_height, img_width)\n",
    ")\n",
    "\n",
    "img_array = keras.preprocessing.image.img_to_array(img)\n",
    "img_array = tf.expand_dims(img_array, 0) # Create a batch\n",
    "\n",
    "predictions = model.predict(img_array)\n",
    "score = tf.nn.softmax(predictions[0])\n",
    "\n",
    "print(\n",
    "    \"This image most likely belongs to the category {} with a {:.2f} percent confidence.\"\n",
    "    .format(class_names[np.argmax(score)], 100 * np.max(score))\n",
    ")\n",
    "PIL.Image.open(bee_img)"
   ]
  },
  {
   "cell_type": "code",
   "execution_count": null,
   "metadata": {},
   "outputs": [],
   "source": []
  }
 ],
 "metadata": {
  "kernelspec": {
   "display_name": "Python 3",
   "language": "python",
   "name": "python3"
  },
  "language_info": {
   "codemirror_mode": {
    "name": "ipython",
    "version": 3
   },
   "file_extension": ".py",
   "mimetype": "text/x-python",
   "name": "python",
   "nbconvert_exporter": "python",
   "pygments_lexer": "ipython3",
   "version": "3.7.6"
  },
  "papermill": {
   "duration": 858.082645,
   "end_time": "2020-12-02T23:26:45.494650",
   "environment_variables": {},
   "exception": null,
   "input_path": "__notebook__.ipynb",
   "output_path": "__notebook__.ipynb",
   "parameters": {},
   "start_time": "2020-12-02T23:12:27.412005",
   "version": "2.1.0"
  },
  "widgets": {
   "application/vnd.jupyter.widget-state+json": {
    "state": {
     "29b32d8e0ae34a3482206601f5e65584": {
      "model_module": "@jupyter-widgets/base",
      "model_module_version": "1.2.0",
      "model_name": "LayoutModel",
      "state": {
       "_model_module": "@jupyter-widgets/base",
       "_model_module_version": "1.2.0",
       "_model_name": "LayoutModel",
       "_view_count": null,
       "_view_module": "@jupyter-widgets/base",
       "_view_module_version": "1.2.0",
       "_view_name": "LayoutView",
       "align_content": null,
       "align_items": null,
       "align_self": null,
       "border": null,
       "bottom": null,
       "display": null,
       "flex": null,
       "flex_flow": null,
       "grid_area": null,
       "grid_auto_columns": null,
       "grid_auto_flow": null,
       "grid_auto_rows": null,
       "grid_column": null,
       "grid_gap": null,
       "grid_row": null,
       "grid_template_areas": null,
       "grid_template_columns": null,
       "grid_template_rows": null,
       "height": null,
       "justify_content": null,
       "justify_items": null,
       "left": null,
       "margin": null,
       "max_height": null,
       "max_width": null,
       "min_height": null,
       "min_width": null,
       "object_fit": null,
       "object_position": null,
       "order": null,
       "overflow": null,
       "overflow_x": null,
       "overflow_y": null,
       "padding": null,
       "right": null,
       "top": null,
       "visibility": null,
       "width": null
      }
     },
     "37eba943f5ef4ef8b9b2040792483816": {
      "model_module": "@jupyter-widgets/base",
      "model_module_version": "1.2.0",
      "model_name": "LayoutModel",
      "state": {
       "_model_module": "@jupyter-widgets/base",
       "_model_module_version": "1.2.0",
       "_model_name": "LayoutModel",
       "_view_count": null,
       "_view_module": "@jupyter-widgets/base",
       "_view_module_version": "1.2.0",
       "_view_name": "LayoutView",
       "align_content": null,
       "align_items": null,
       "align_self": null,
       "border": null,
       "bottom": null,
       "display": null,
       "flex": null,
       "flex_flow": null,
       "grid_area": null,
       "grid_auto_columns": null,
       "grid_auto_flow": null,
       "grid_auto_rows": null,
       "grid_column": null,
       "grid_gap": null,
       "grid_row": null,
       "grid_template_areas": null,
       "grid_template_columns": null,
       "grid_template_rows": null,
       "height": null,
       "justify_content": null,
       "justify_items": null,
       "left": null,
       "margin": null,
       "max_height": null,
       "max_width": null,
       "min_height": null,
       "min_width": null,
       "object_fit": null,
       "object_position": null,
       "order": null,
       "overflow": null,
       "overflow_x": null,
       "overflow_y": null,
       "padding": null,
       "right": null,
       "top": null,
       "visibility": null,
       "width": null
      }
     },
     "5513fc407b75482d9666ee3e0e1c0d23": {
      "model_module": "@jupyter-widgets/controls",
      "model_module_version": "1.5.0",
      "model_name": "ButtonModel",
      "state": {
       "_dom_classes": [],
       "_model_module": "@jupyter-widgets/controls",
       "_model_module_version": "1.5.0",
       "_model_name": "ButtonModel",
       "_view_count": null,
       "_view_module": "@jupyter-widgets/controls",
       "_view_module_version": "1.5.0",
       "_view_name": "ButtonView",
       "button_style": "",
       "description": "Analyze Next Image",
       "disabled": false,
       "icon": "",
       "layout": "IPY_MODEL_29b32d8e0ae34a3482206601f5e65584",
       "style": "IPY_MODEL_c4825d30ca444a399933f1b6125d2627",
       "tooltip": ""
      }
     },
     "93ba039b24c947b9ade9cca52b37293e": {
      "model_module": "@jupyter-widgets/controls",
      "model_module_version": "1.5.0",
      "model_name": "FileUploadModel",
      "state": {
       "_counter": 0,
       "_dom_classes": [],
       "_model_module": "@jupyter-widgets/controls",
       "_model_module_version": "1.5.0",
       "_model_name": "FileUploadModel",
       "_view_count": null,
       "_view_module": "@jupyter-widgets/controls",
       "_view_module_version": "1.5.0",
       "_view_name": "FileUploadView",
       "accept": ".png, .jpg",
       "button_style": "",
       "data": [],
       "description": "Upload",
       "description_tooltip": null,
       "disabled": false,
       "error": "",
       "icon": "upload",
       "layout": "IPY_MODEL_37eba943f5ef4ef8b9b2040792483816",
       "metadata": [],
       "multiple": false,
       "style": "IPY_MODEL_9d28d903e2214a75b3e45353deafdc32"
      }
     },
     "9d28d903e2214a75b3e45353deafdc32": {
      "model_module": "@jupyter-widgets/controls",
      "model_module_version": "1.5.0",
      "model_name": "ButtonStyleModel",
      "state": {
       "_model_module": "@jupyter-widgets/controls",
       "_model_module_version": "1.5.0",
       "_model_name": "ButtonStyleModel",
       "_view_count": null,
       "_view_module": "@jupyter-widgets/base",
       "_view_module_version": "1.2.0",
       "_view_name": "StyleView",
       "button_color": null,
       "font_weight": ""
      }
     },
     "c4825d30ca444a399933f1b6125d2627": {
      "model_module": "@jupyter-widgets/controls",
      "model_module_version": "1.5.0",
      "model_name": "ButtonStyleModel",
      "state": {
       "_model_module": "@jupyter-widgets/controls",
       "_model_module_version": "1.5.0",
       "_model_name": "ButtonStyleModel",
       "_view_count": null,
       "_view_module": "@jupyter-widgets/base",
       "_view_module_version": "1.2.0",
       "_view_name": "StyleView",
       "button_color": null,
       "font_weight": ""
      }
     }
    },
    "version_major": 2,
    "version_minor": 0
   }
  }
 },
 "nbformat": 4,
 "nbformat_minor": 4
}
